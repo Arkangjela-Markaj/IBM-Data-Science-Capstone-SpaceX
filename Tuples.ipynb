{
  "nbformat": 4,
  "nbformat_minor": 0,
  "metadata": {
    "colab": {
      "provenance": [],
      "authorship_tag": "ABX9TyMRGiMwu/R1ew8bmXjPYIat",
      "include_colab_link": true
    },
    "kernelspec": {
      "name": "python3",
      "display_name": "Python 3"
    },
    "language_info": {
      "name": "python"
    }
  },
  "cells": [
    {
      "cell_type": "markdown",
      "metadata": {
        "id": "view-in-github",
        "colab_type": "text"
      },
      "source": [
        "<a href=\"https://colab.research.google.com/github/Arkangjela-Markaj/IBM-Data-Science-Capstone-SpaceX/blob/main/Tuples.ipynb\" target=\"_parent\"><img src=\"https://colab.research.google.com/assets/colab-badge.svg\" alt=\"Open In Colab\"/></a>"
      ]
    },
    {
      "cell_type": "markdown",
      "source": [
        "1. Reverse the tuple"
      ],
      "metadata": {
        "id": "-VxgmBIM0c_4"
      }
    },
    {
      "cell_type": "code",
      "source": [
        "tuple1=(10,20,30,40,50)"
      ],
      "metadata": {
        "id": "Y53r-g0E0gCa"
      },
      "execution_count": 1,
      "outputs": []
    },
    {
      "cell_type": "code",
      "source": [
        "reversed_tuple1=tuple1[::-1]\n",
        "print(reversed_tuple1)"
      ],
      "metadata": {
        "colab": {
          "base_uri": "https://localhost:8080/"
        },
        "id": "zewwZsL80_b6",
        "outputId": "72828ed5-a0a3-4728-d6c4-e60f95023e07"
      },
      "execution_count": 9,
      "outputs": [
        {
          "output_type": "stream",
          "name": "stdout",
          "text": [
            "(50, 40, 30, 20, 10)\n"
          ]
        }
      ]
    },
    {
      "cell_type": "markdown",
      "source": [
        "2. Create a tuple with single item 50"
      ],
      "metadata": {
        "id": "uct1TuIa1o-T"
      }
    },
    {
      "cell_type": "code",
      "source": [
        "mytuple=(50)\n",
        "print(mytuple)"
      ],
      "metadata": {
        "colab": {
          "base_uri": "https://localhost:8080/"
        },
        "id": "PyzwL5ot1wvJ",
        "outputId": "efcaab7f-74c6-4897-db12-551aacdee872"
      },
      "execution_count": 11,
      "outputs": [
        {
          "output_type": "stream",
          "name": "stdout",
          "text": [
            "50\n"
          ]
        }
      ]
    },
    {
      "cell_type": "markdown",
      "source": [
        "3. count the number of occurrances of item 50 from a tuple"
      ],
      "metadata": {
        "id": "HXP7qSGW14Ei"
      }
    },
    {
      "cell_type": "code",
      "source": [
        "tuple1=(50,10,60,70,50)"
      ],
      "metadata": {
        "id": "aA9JnPKx1_zh"
      },
      "execution_count": 12,
      "outputs": []
    },
    {
      "cell_type": "code",
      "source": [
        "tuple1.count(50)"
      ],
      "metadata": {
        "colab": {
          "base_uri": "https://localhost:8080/"
        },
        "id": "T1GeQMrq2IQe",
        "outputId": "d5e2e446-2998-47be-bae2-78be301ed1e4"
      },
      "execution_count": 15,
      "outputs": [
        {
          "output_type": "execute_result",
          "data": {
            "text/plain": [
              "2"
            ]
          },
          "metadata": {},
          "execution_count": 15
        }
      ]
    },
    {
      "cell_type": "markdown",
      "source": [
        "4. check if all items in the tuple are the same"
      ],
      "metadata": {
        "id": "nHgqB59a2X-x"
      }
    },
    {
      "cell_type": "code",
      "source": [
        "tuple1=(45,45,45,45)"
      ],
      "metadata": {
        "id": "Ki_RqJML2cCQ"
      },
      "execution_count": 16,
      "outputs": []
    },
    {
      "cell_type": "code",
      "source": [
        "all_same=all(item==tuple1[0] for item in tuple1)\n",
        "print(all_same)"
      ],
      "metadata": {
        "colab": {
          "base_uri": "https://localhost:8080/"
        },
        "id": "X2ieQO702yJY",
        "outputId": "f50b0cbf-e39e-4621-8b73-4e3d8b71acd5"
      },
      "execution_count": 22,
      "outputs": [
        {
          "output_type": "stream",
          "name": "stdout",
          "text": [
            "True\n"
          ]
        }
      ]
    }
  ]
}